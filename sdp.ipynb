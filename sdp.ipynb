{
 "cells": [
  {
   "cell_type": "markdown",
   "id": "4625f2e5",
   "metadata": {},
   "source": [
    "# Student Depression Prediction"
   ]
  },
  {
   "cell_type": "markdown",
   "id": "bdaf6ffe",
   "metadata": {},
   "source": [
    "## Importing Necessary Libraries / Modules"
   ]
  },
  {
   "cell_type": "code",
   "execution_count": 2,
   "id": "8e4a4b58",
   "metadata": {},
   "outputs": [],
   "source": [
    "import numpy as np\n",
    "import pandas as pd\n",
    "import seaborn as sns\n",
    "import matplotlib.pyplot as plt"
   ]
  },
  {
   "cell_type": "markdown",
   "id": "2b2156d0",
   "metadata": {},
   "source": [
    "## Loading The Dataset"
   ]
  },
  {
   "cell_type": "code",
   "execution_count": 4,
   "id": "0066bca1",
   "metadata": {},
   "outputs": [],
   "source": [
    "df = pd.read_csv('Student_Depression_Dataset.csv')"
   ]
  },
  {
   "cell_type": "code",
   "execution_count": null,
   "id": "7e0c0a84",
   "metadata": {},
   "outputs": [],
   "source": []
  }
 ],
 "metadata": {
  "kernelspec": {
   "display_name": "env2",
   "language": "python",
   "name": "python3"
  },
  "language_info": {
   "codemirror_mode": {
    "name": "ipython",
    "version": 3
   },
   "file_extension": ".py",
   "mimetype": "text/x-python",
   "name": "python",
   "nbconvert_exporter": "python",
   "pygments_lexer": "ipython3",
   "version": "3.12.9"
  }
 },
 "nbformat": 4,
 "nbformat_minor": 5
}
